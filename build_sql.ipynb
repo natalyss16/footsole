{
 "cells": [
  {
   "cell_type": "code",
   "execution_count": 1,
   "id": "27e55152",
   "metadata": {},
   "outputs": [],
   "source": [
    "from pathlib import Path\n",
    "import re\n",
    "import numpy as np\n",
    "import pandas as pd\n",
    "import h5py\n",
    "import sqlite3"
   ]
  },
  {
   "cell_type": "code",
   "execution_count": 2,
   "id": "42664a70",
   "metadata": {},
   "outputs": [],
   "source": [
    "output_dir = Path(\"data_csv\"); output_dir.mkdir(exist_ok=True)\n",
    "\n",
    "def sanitize(name: str) -> str:\n",
    "    base = name.strip(\"/\").replace(\"/\", \"_\") or \"root\"\n",
    "    return re.sub(r\"[^0-9A-Za-z_]\", \"_\", base)\n",
    "\n",
    "def describe_file(h5_path):\n",
    "    print(f\"Structure of {h5_path}\")\n",
    "    with h5py.File(h5_path, \"r\") as f:\n",
    "        def show(name, obj):\n",
    "            if isinstance(obj, h5py.Dataset):\n",
    "                print(f\"[DATASET] {name} shape={obj.shape} dtype={obj.dtype}\")\n",
    "            elif isinstance(obj, h5py.Group):\n",
    "                print(f\"[GROUP]   {name}\")\n",
    "        f.visititems(show)\n",
    "\n",
    "def dataset_to_dataframe(ds: h5py.Dataset) -> pd.DataFrame:\n",
    "    data = ds[()]\n",
    "    if hasattr(data, \"dtype\") and data.dtype.names:\n",
    "        df = pd.DataFrame({k: data[k] for k in data.dtype.names})\n",
    "    else:\n",
    "        if data.ndim == 1:\n",
    "            df = pd.DataFrame({sanitize(ds.name): data})\n",
    "        elif data.ndim == 2:\n",
    "            df = pd.DataFrame(data)\n",
    "            df.columns = [f\"c{i}\" for i in range(df.shape[1])]\n",
    "        else:\n",
    "            raise ValueError(f\"Skip non-tabular dataset {ds.name} with ndim={data.ndim}\")\n",
    "    for c in df.columns:\n",
    "        col = df[c]\n",
    "        if col.dtype.kind in {\"S\", \"O\"}:\n",
    "            try:\n",
    "                sample = next((x for x in col.dropna().values if isinstance(x, (bytes, bytearray))), None)\n",
    "                if isinstance(sample, (bytes, bytearray)):\n",
    "                    df[c] = col.apply(lambda x: x.decode(\"utf-8\", \"ignore\") if isinstance(x, (bytes, bytearray)) else x)\n",
    "            except Exception:\n",
    "                pass\n",
    "    return df\n",
    "\n",
    "def export_all(h5_path, out_dir: Path):\n",
    "    csv_paths = []\n",
    "    with h5py.File(h5_path, \"r\") as f:\n",
    "        def handle(name, obj):\n",
    "            if not isinstance(obj, h5py.Dataset):\n",
    "                return\n",
    "            tbl = sanitize(name)\n",
    "            try:\n",
    "                df = dataset_to_dataframe(obj)\n",
    "            except Exception as e:\n",
    "                print(f\"- Skipped {name}: {e}\")\n",
    "                return\n",
    "            csv_path = out_dir / f\"{Path(h5_path).stem}_{tbl}.csv\"\n",
    "            df.to_csv(csv_path, index=False)\n",
    "            csv_paths.append((tbl, str(csv_path)))\n",
    "            print(f\"+ Wrote {csv_path} rows={len(df)} cols={len(df.columns)}\")\n",
    "        f.visititems(handle)\n",
    "    return csv_paths"
   ]
  },
  {
   "cell_type": "code",
   "execution_count": 6,
   "id": "56611eac",
   "metadata": {},
   "outputs": [],
   "source": [
    "data_h5_path = Path(\"data_h5\")\n",
    "for file in data_h5_path.glob(\"*.h5\"):\n",
    "    print(f\"\\nProcessing {file}\")\n",
    "    describe_file(file)\n",
    "    export_all(file, output_dir)"
   ]
  },
  {
   "cell_type": "code",
   "execution_count": 5,
   "id": "f6b3b215",
   "metadata": {},
   "outputs": [
    {
     "name": "stdout",
     "output_type": "stream",
     "text": [
      "SQLite ready -> footsole.sqlite\n"
     ]
    }
   ],
   "source": [
    "db_path = \"footsole.sqlite\" \n",
    "\n",
    "def sanitize(name: str) -> str:\n",
    "    base = re.sub(r\"\\.csv$\", \"\", name, flags=re.I)\n",
    "    base = re.sub(r\"[^0-9A-Za-z_]\", \"_\", base)\n",
    "    return base or \"table\"\n",
    "\n",
    "conn = sqlite3.connect(db_path)\n",
    "for csv_path in output_dir.glob(\"*.csv\"):\n",
    "    tbl = sanitize(csv_path.name)\n",
    "    df = pd.read_csv(csv_path)\n",
    "    df.columns = [re.sub(r\"[^0-9A-Za-z_]\", \"_\", str(c)) or \"col\" for c in df.columns]\n",
    "    df.to_sql(tbl, conn, if_exists=\"replace\", index=False)\n",
    "    print(f\"Loaded {csv_path} -> {tbl}\")\n",
    "conn.close()\n",
    "\n",
    "print(f\"SQLite ready -> {db_path}\")"
   ]
  },
  {
   "cell_type": "code",
   "execution_count": null,
   "id": "fe71779e",
   "metadata": {},
   "outputs": [],
   "source": []
  }
 ],
 "metadata": {
  "kernelspec": {
   "display_name": "base",
   "language": "python",
   "name": "python3"
  },
  "language_info": {
   "codemirror_mode": {
    "name": "ipython",
    "version": 3
   },
   "file_extension": ".py",
   "mimetype": "text/x-python",
   "name": "python",
   "nbconvert_exporter": "python",
   "pygments_lexer": "ipython3",
   "version": "3.8.5"
  }
 },
 "nbformat": 4,
 "nbformat_minor": 5
}
